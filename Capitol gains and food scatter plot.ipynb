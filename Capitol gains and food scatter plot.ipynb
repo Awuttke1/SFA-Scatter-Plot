{
 "cells": [
  {
   "cell_type": "code",
   "execution_count": null,
   "id": "381e62e3",
   "metadata": {},
   "outputs": [],
   "source": []
  },
  {
   "cell_type": "code",
   "execution_count": null,
   "id": "ed071b85",
   "metadata": {
    "scrolled": true
   },
   "outputs": [],
   "source": [
    "import pandas as pd\n",
    "import numpy as np\n",
    "import matplotlib.pyplot as plt\n",
    "df = pd.read_csv('SCF-food-and-gains/sub-data.csv.txt')\n",
    "df.head\n",
    "\n",
    "x = 'KGINC'\n",
    "y = 'FOODHOME'\n",
    "\n",
    "plt.scatter(x = df[x], y = df[y])\n",
    "plt.title('Amount spent on food by Capitol gains')"
   ]
  },
  {
   "cell_type": "code",
   "execution_count": 9,
   "id": "ce4afeb4",
   "metadata": {},
   "outputs": [
    {
     "data": {
      "text/plain": [
       "Text(0.5, 1.0, 'Total Houshold Debt by Total Houshold Income')"
      ]
     },
     "execution_count": 9,
     "metadata": {},
     "output_type": "execute_result"
    },
    {
     "data": {
      "image/png": "[encoded data removed]",
      "text/plain": [
       "<Figure size 432x288 with 1 Axes>"
      ]
     },
     "metadata": {
      "needs_background": "light"
     },
     "output_type": "display_data"
    }
   ],
   "source": [
    "#Data Source: https://sda.berkeley.edu/sdaweb/analysis/?dataset=scfcomb\n",
    "\n",
    "#codebook\n",
    "    #INCOME = total household income from all sources\n",
    "    #DEBT = total household debt\n",
    "\n",
    "\n",
    "#import dependancies\n",
    "import pandas as pd\n",
    "import numpy as np\n",
    "import matplotlib.pyplot as plt\n",
    "#read csv file \n",
    "df = pd.read_csv('DEBT-INCOME/sub-data.csv.txt')\n",
    "df.head\n",
    "\n",
    "#list variables \n",
    "x = 'INCOME'\n",
    "y = 'DEBT'\n",
    "\n",
    "#create scatter plot, define which variable is which axis, and title scatter plot\n",
    "plt.scatter(x = df[x], y = df[y])\n",
    "plt.title('Total Houshold Debt by Total Houshold Income')"
   ]
  },
  {
   "cell_type": "code",
   "execution_count": null,
   "id": "83d4a5bd",
   "metadata": {},
   "outputs": [],
   "source": []
  }
 ],
 "metadata": {
  "kernelspec": {
   "display_name": "Python 3 (ipykernel)",
   "language": "python",
   "name": "python3"
  },
  "language_info": {
   "codemirror_mode": {
    "name": "ipython",
    "version": 3
   },
   "file_extension": ".py",
   "mimetype": "text/x-python",
   "name": "python",
   "nbconvert_exporter": "python",
   "pygments_lexer": "ipython3",
   "version": "3.9.12"
  }
 },
 "nbformat": 4,
 "nbformat_minor": 5
}
